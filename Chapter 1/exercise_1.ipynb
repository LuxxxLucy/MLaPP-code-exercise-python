{
 "cells": [
  {
   "cell_type": "markdown",
   "metadata": {
    "colab_type": "text",
    "id": "EU8dxvtz2jxP"
   },
   "source": [
    "[![Open In Colab](https://colab.research.google.com/assets/colab-badge.svg)](https://colab.research.google.com/github/googlecolab/colabtools/blob/master/notebooks/colab-github-demo.ipynb)\n",
    "\n",
    "\n",
    "# Solution to the Exercise of Chapter One\n",
    "\n",
    "\n",
    "The first chapter is basicly a short introduction to some core concepts. The categorization of ML and some example applications and some other concepts like parametric&non-parametric, overfit, model selection and no free lunch theorem. My personal note for this chapter see [here](https://www.notion.so/luxxxlucy/Notes-of-Chap-1-MLaPP-8dffb60037a94851946735e1dfe6f50a).\n",
    "\n",
    "This chapter, since it is only introduction, has only three exercise question and all are about K-nearest neighbour (KNN). The aim of these three exercise, from I see, is just to confirm with some concepts delivered through the text.\n",
    "\n",
    "First of all, to make it faster, I use only the first 1000 data, to speed up."
   ]
  },
  {
   "cell_type": "markdown",
   "metadata": {
    "colab_type": "text",
    "id": "ZQNMluNU2jxR"
   },
   "source": [
    "\n",
    "## __Exercise 1.1__ KNN classifier on shuffled MNIST data\n"
   ]
  },
  {
   "cell_type": "markdown",
   "metadata": {
    "colab_type": "text",
    "id": "El7i8Ufw3FJT"
   },
   "source": [
    "\n",
    "\n",
    "__Question__:\n",
    "\n",
    "Run mnist1NNdemo and verify that the misclassification rate (on the first 1000 test cases) of MNIST of a 1-NN classifier is 3.8%. (If you run it all on all 10,000 test cases, the error rate is 3.09%.) Modify the code so that you first randomly permute the features (columns of the training and test design matrices), as in shuffledDigitsDemo, and then apply the classifier. Verify that the error rate is not changed.\n",
    "\n",
    "(*I use python (in particular the sci-kit tool) anyway*)\n",
    "\n",
    "__Answer__:\n",
    "\n",
    "The error rate does not change\n",
    "This result is not surprsing. The error rate does not change even we change the order of feature, simply because the model we use does not utilize the order information at all. The euclidean distance has no emphasis on the order of features.\n"
   ]
  },
  {
   "cell_type": "code",
   "execution_count": 1,
   "metadata": {
    "ExecuteTime": {
     "end_time": "2020-01-10T03:34:33.751250Z",
     "start_time": "2020-01-10T03:34:32.226607Z"
    },
    "colab": {},
    "colab_type": "code",
    "id": "r5jhOMcY2jxV"
   },
   "outputs": [],
   "source": [
    "import numpy as np\n",
    "from sklearn.datasets import fetch_openml\n",
    "from sklearn.neighbors import KNeighborsClassifier as KNN\n",
    "from sklearn.metrics import accuracy_score"
   ]
  },
  {
   "cell_type": "code",
   "execution_count": 2,
   "metadata": {
    "ExecuteTime": {
     "end_time": "2020-01-10T03:34:58.626324Z",
     "start_time": "2020-01-10T03:34:33.756167Z"
    },
    "colab": {},
    "colab_type": "code",
    "id": "S1Fhhr9N2jxY"
   },
   "outputs": [],
   "source": [
    "# download the mnist data\n",
    "mnist = fetch_openml('mnist_784', version=1, return_X_y=True)"
   ]
  },
  {
   "cell_type": "code",
   "execution_count": 3,
   "metadata": {
    "ExecuteTime": {
     "end_time": "2020-01-10T03:34:58.653999Z",
     "start_time": "2020-01-10T03:34:58.640064Z"
    },
    "colab": {},
    "colab_type": "code",
    "id": "Whm4WHhS2jxa"
   },
   "outputs": [
    {
     "name": "stdout",
     "output_type": "stream",
     "text": [
      "for speed up, I only use the first 1000 samples\n"
     ]
    }
   ],
   "source": [
    "# data loading\n",
    "\n",
    "# N_train = 60000\n",
    "print(\"for speed up, I only use the first 1000 samples\")\n",
    "N_train = 1000 # speed up\n",
    "\n",
    "np.random.seed(0)\n",
    "X,y = mnist\n",
    "\n",
    "X_train = X[:N_train]\n",
    "X_test = X[60000:]\n",
    "y_train = y[:N_train]\n",
    "y_test = y[60000:]"
   ]
  },
  {
   "cell_type": "code",
   "execution_count": 4,
   "metadata": {
    "ExecuteTime": {
     "end_time": "2020-01-10T03:34:58.759110Z",
     "start_time": "2020-01-10T03:34:58.660028Z"
    },
    "colab": {
     "base_uri": "https://localhost:8080/",
     "height": 68
    },
    "colab_type": "code",
    "id": "EFmqqPev2jxc",
    "outputId": "b6e42a3d-1813-4c31-bb69-19e16d68e023"
   },
   "outputs": [
    {
     "data": {
      "text/plain": [
       "KNeighborsClassifier(algorithm='auto', leaf_size=30, metric='minkowski',\n",
       "                     metric_params=None, n_jobs=-1, n_neighbors=1, p=2,\n",
       "                     weights='uniform')"
      ]
     },
     "execution_count": 4,
     "metadata": {},
     "output_type": "execute_result"
    }
   ],
   "source": [
    "# fit the model\n",
    "knn = KNN(n_neighbors=1,n_jobs=-1)\n",
    "knn.fit(X_train, y_train)"
   ]
  },
  {
   "cell_type": "code",
   "execution_count": 5,
   "metadata": {
    "ExecuteTime": {
     "end_time": "2020-01-10T03:35:05.013095Z",
     "start_time": "2020-01-10T03:34:58.784273Z"
    },
    "colab": {
     "base_uri": "https://localhost:8080/",
     "height": 34
    },
    "colab_type": "code",
    "id": "dHm9gCP07ne5",
    "outputId": "4417afa4-505f-4c99-c882-2365699b484a"
   },
   "outputs": [
    {
     "name": "stdout",
     "output_type": "stream",
     "text": [
      "starting predicting. But finding nearest neighbour is not so quick (if you use the full training set) \n",
      "the test error(inaccuracy) is:  0.131\n",
      "6.21 s ± 0 ns per loop (mean ± std. dev. of 1 run, 1 loop each)\n"
     ]
    }
   ],
   "source": [
    "%%timeit -n 1 -r 1\n",
    "# track the execution time, change the loop time if you want\n",
    "\n",
    "# test the accuracy\n",
    "print(\"starting predicting. But finding nearest neighbour is not so quick (if you use the full training set) \")\n",
    "y_pred = knn.predict(X_test)\n",
    "test_error_rate = 1 - accuracy_score(y_pred, y_test)\n",
    "print(\"the test error(inaccuracy) is: \",test_error_rate)"
   ]
  },
  {
   "cell_type": "code",
   "execution_count": 6,
   "metadata": {
    "ExecuteTime": {
     "end_time": "2020-01-10T03:35:12.739031Z",
     "start_time": "2020-01-10T03:35:05.020133Z"
    },
    "colab": {},
    "colab_type": "code",
    "id": "uHu6OCUA2jxf"
   },
   "outputs": [
    {
     "name": "stdout",
     "output_type": "stream",
     "text": [
      "starting predicting. But finding nearest neighbour is not so quick (if you use the full training set)\n",
      "the test error(inaccuracy) of the permutated features is:  0.131\n",
      "7.71 s ± 0 ns per loop (mean ± std. dev. of 1 run, 1 loop each)\n"
     ]
    }
   ],
   "source": [
    "%%timeit -n 1 -r 1\n",
    "\n",
    "# random shuffle for feature\n",
    "feature_ind = np.random.permutation(X.shape[1])\n",
    "X_train_shuffle = X_train[:, feature_ind]\n",
    "X_test_shuffle = X_test[:, feature_ind]\n",
    "knn_shuffle = KNN(n_neighbors=1, n_jobs=-1)\n",
    "knn_shuffle.fit(X_train_shuffle, y_train)\n",
    "y_pred_shuffle = knn_shuffle.predict(X_test_shuffle)\n",
    "print(\"starting predicting. But finding nearest neighbour is not so quick (if you use the full training set)\")\n",
    "test_shuffle_error_rate = 1 - accuracy_score(y_pred_shuffle, y_test)\n",
    "print(\"the test error(inaccuracy) of the permutated features is: \", test_shuffle_error_rate)  # equals the above result"
   ]
  },
  {
   "cell_type": "markdown",
   "metadata": {
    "colab_type": "text",
    "id": "V_djwV632xUn"
   },
   "source": [
    "\n",
    "## __Exercise 1.2__ Approximate KNN classifiers\n",
    "\n",
    "__Question__:\n",
    "Use the Matlab/C++ code at http://people.cs.ubc.ca/~mariusm/index.php/FLANN/FLANN to per- form approximate nearest neighbor search, and combine it with mnist1NNdemo to classify the MNIST data set. How much speedup do you get, and what is the drop (if any) in accuracy?\n",
    "\n",
    "__Answer__:\n",
    "\n",
    "A small drop in accuracy: 13% -> 14\\~15%\n",
    "\n",
    "A huge improvement on speed: 5\\~6s -> 0.8\\~1ms"
   ]
  },
  {
   "cell_type": "code",
   "execution_count": 7,
   "metadata": {
    "ExecuteTime": {
     "end_time": "2020-01-10T03:35:15.388745Z",
     "start_time": "2020-01-10T03:35:12.745767Z"
    },
    "inputHidden": false,
    "outputHidden": false
   },
   "outputs": [
    {
     "name": "stdout",
     "output_type": "stream",
     "text": [
      "first get the FLANN for python\n",
      "Requirement already satisfied: pyflann-py3 in /Users/lucy/anaconda3/lib/python3.7/site-packages (0.1.0)\n"
     ]
    }
   ],
   "source": [
    "print(\"first get the FLANN for python\")\n",
    "!pip install pyflann-py3"
   ]
  },
  {
   "cell_type": "code",
   "execution_count": 8,
   "metadata": {
    "ExecuteTime": {
     "end_time": "2020-01-10T03:35:16.616554Z",
     "start_time": "2020-01-10T03:35:15.401028Z"
    },
    "inputHidden": false,
    "outputHidden": false
   },
   "outputs": [
    {
     "name": "stdout",
     "output_type": "stream",
     "text": [
      "(10000, 1)\n",
      "the test error(inaccuracy) of the permutated features is:  0.1412\n",
      "1.2 s ± 0 ns per loop (mean ± std. dev. of 1 run, 1 loop each)\n"
     ]
    }
   ],
   "source": [
    "%%timeit -n 1 -r 1\n",
    "\n",
    "from pyflann import FLANN\n",
    "\n",
    "\n",
    "\n",
    "flann = FLANN()\n",
    "\n",
    "X_train_float32 = X_train.copy().astype(np.float32)\n",
    "X_test_float32 = X_test.copy().astype(np.float32)\n",
    "# the flann only takes float32 so it needs first a casting!\n",
    "\n",
    "nearest_neighbours,dists = flann.nn(X_train_float32,X_test_float32,1,algorithm=\"kmeans\",\n",
    "branching=32, iterations=7, checks=16)\n",
    "\n",
    "def classify(neighbours_array, labels):\n",
    "    from collections import defaultdict\n",
    "    results = []\n",
    "    if len(neighbours_array.shape) ==1:\n",
    "        # only 1 neighbour\n",
    "        neighbours_array = np.expand_dims(neighbours_array, axis=1)\n",
    "    print(neighbours_array.shape)\n",
    "    for i,neighbours in enumerate(neighbours_array):\n",
    "        temp_dic = defaultdict(int)\n",
    "        for n in neighbours:\n",
    "            temp_dic[ labels[n] ]+=1\n",
    "        result = max( temp_dic.items(),key= lambda x:x[1])[0]\n",
    "        results.append(result)\n",
    "    \n",
    "    return results\n",
    "\n",
    "y_pred_flann = classify(nearest_neighbours,y_train)\n",
    "test_flann_error_rate = 1 - accuracy_score(y_pred_flann, y_test)\n",
    "print(\"the test error(inaccuracy) of the permutated features is: \", test_flann_error_rate)  # equals the above result"
   ]
  },
  {
   "cell_type": "markdown",
   "metadata": {
    "colab_type": "text",
    "id": "JsXQ2RC42qrT"
   },
   "source": [
    "\n",
    "## __Exercise 1.3__ CV (Cross Validation) for KNN\n",
    "\n",
    "__Question__\n",
    "\n",
    "Use knnClassifyDemo to plot the CV estimate of the misclassification rate on the test set. Compare this to Figure 1.21(a). Discuss the similarities and differences to the test error rate.\n",
    "\n",
    "__Answer__\n",
    "\n",
    "(too speed up I used the flann to speed up, but the trend is alike. You can try your self)\n",
    "\n",
    "Not identical but similar. The general trend is that the train error is always lower, and test&CV error is alike.\n",
    "\n",
    "When K is small, we overfit (good on train set but bad on test set). And as K becomes larger, the error rates in general also grows.\n",
    "\n",
    "The major difference of this plot and the Figure 1.21(a) is that, in Figure 1.21(a), when K=1 the test error is extremely large, yet in this plot, even in K=1, the error is not so large. This indicate that in MNIST task, the overfir of the K=1 of KNN is not so serious. "
   ]
  },
  {
   "cell_type": "code",
   "execution_count": 9,
   "metadata": {
    "ExecuteTime": {
     "end_time": "2020-01-10T03:35:16.641063Z",
     "start_time": "2020-01-10T03:35:16.621570Z"
    },
    "inputHidden": false,
    "outputHidden": false
   },
   "outputs": [],
   "source": [
    "def flann_knn_classify(train_data,train_label,K,test_data):\n",
    "    from pyflann import FLANN\n",
    "    \n",
    "    def classify(neighbours_array, labels):\n",
    "        from collections import defaultdict\n",
    "        results = []\n",
    "        if len(neighbours_array.shape) == 1:\n",
    "            # only 1 neighbour\n",
    "            neighbours_array = np.expand_dims(neighbours_array, axis=1)\n",
    "        for i,neighbours in enumerate(neighbours_array):\n",
    "            temp_dic = defaultdict(int)\n",
    "            for n in neighbours:\n",
    "                temp_dic[ labels[n] ]+=1\n",
    "            result = max( temp_dic.items(),key= lambda x:x[1])[0]\n",
    "            results.append(result)\n",
    "        return results\n",
    "\n",
    "    flann = FLANN()\n",
    "    t = np.float32\n",
    "    train_data, test_data = train_data.astype(t), test_data.astype(t)\n",
    "    nearest_neighbours,dists = flann.nn(train_data,test_data,K,algorithm=\"kmeans\", branching=32, iterations=7, checks=16)\n",
    "    y_pred_flann = classify(nearest_neighbours,train_label)\n",
    "    return y_pred_flann"
   ]
  },
  {
   "cell_type": "code",
   "execution_count": 10,
   "metadata": {
    "ExecuteTime": {
     "end_time": "2020-01-10T03:36:10.191902Z",
     "start_time": "2020-01-10T03:35:16.647543Z"
    },
    "inputHidden": false,
    "outputHidden": false
   },
   "outputs": [
    {
     "data": {
      "application/vnd.jupyter.widget-view+json": {
       "model_id": "879e23f1f8bc4c2bbf3dc990976698f8",
       "version_major": 2,
       "version_minor": 0
      },
      "text/plain": [
       "HBox(children=(IntProgress(value=0, max=20), HTML(value='')))"
      ]
     },
     "metadata": {},
     "output_type": "display_data"
    },
    {
     "name": "stdout",
     "output_type": "stream",
     "text": [
      "\n"
     ]
    }
   ],
   "source": [
    "# lets do k-fold validation and compare the test error!\n",
    "\n",
    "from sklearn.model_selection import KFold\n",
    "\n",
    "n_fold = 5\n",
    "use_flann = True\n",
    "N_train = X_train.shape[0]\n",
    "kf = KFold(n_splits=n_fold)\n",
    "\n",
    "k_min, k_max, step= 1, 100, 5\n",
    "ks = np.arange(k_min, k_max + 1, step=step)\n",
    "cv_errors = []\n",
    "test_errors = []\n",
    "train_errors = []\n",
    "\n",
    "from tqdm import tqdm_notebook as tqdm\n",
    "\n",
    "for k in tqdm(ks):\n",
    "    temp_errors=[]\n",
    "    for train_index, test_index in kf.split(X_train):\n",
    "        X_train_cv, X_vali_cv = X_train[train_index], X_train[test_index]\n",
    "        y_train_cv, y_vali_cv = y_train[train_index], y_train[test_index]\n",
    "        \n",
    "        if use_flann:\n",
    "            cv_model_pred = flann_knn_classify(X_train_cv, y_train_cv, k, X_vali_cv)\n",
    "            \n",
    "        else:\n",
    "            cv_model = KNN(n_neighbors=k, n_jobs=-1)\n",
    "            cv_model.fit(X_train_cv, y_train_cv)\n",
    "            cv_model_pred = cv_model.predict(X_vali_cv)\n",
    "        temp_errors.append(1 - accuracy_score(cv_model_pred, y_vali_cv))\n",
    "#         print(cv_model_pred)\n",
    "#         print(y_vali_cv)\n",
    "    cv_errors.append(sum(temp_errors) / n_fold)\n",
    "\n",
    "    if use_flann:\n",
    "        whole_model_pred = flann_knn_classify(X_train, y_train, k, X_test)\n",
    "    else:\n",
    "        whole_model = KNN(n_neighbors=k, n_jobs=-1)\n",
    "        whole_model.fit(X_train,y_train)\n",
    "        whole_model_pred = whole_model.predict(X_test)\n",
    "\n",
    "    test_errors.append( 1 - accuracy_score(whole_model_pred, y_test))\n",
    "    \n",
    "    if use_flann:\n",
    "        whole_model_pred = flann_knn_classify(X_train, y_train, k, X_train)\n",
    "\n",
    "    else:\n",
    "        whole_model = KNN(n_neighbors=k, n_jobs=-1)\n",
    "        whole_model.fit(X_train,y_train)\n",
    "        whole_model_pred = whole_model.predict(X_train)\n",
    "\n",
    "    train_errors.append( 1 - accuracy_score(whole_model_pred, y_train))\n",
    "\n",
    "\n",
    "                     "
   ]
  },
  {
   "cell_type": "code",
   "execution_count": 13,
   "metadata": {
    "ExecuteTime": {
     "end_time": "2020-01-10T03:36:23.544176Z",
     "start_time": "2020-01-10T03:36:23.308645Z"
    },
    "inputHidden": false,
    "outputHidden": false
   },
   "outputs": [
    {
     "data": {
      "image/png": "[encoded data removed]",
      "text/plain": [
       "<Figure size 432x288 with 1 Axes>"
      ]
     },
     "metadata": {
      "needs_background": "light"
     },
     "output_type": "display_data"
    }
   ],
   "source": [
    "%matplotlib inline\n",
    "import matplotlib\n",
    "import matplotlib.pyplot as plt\n",
    "import numpy as np\n",
    "\n",
    "# Data for plotting\n",
    "t = np.arange(0.0, 2.0, 0.01)\n",
    "s = 1 + np.sin(2 * np.pi * t)\n",
    "\n",
    "fig, ax = plt.subplots()\n",
    "ax.plot(ks, cv_errors, label=\"CV errors\")\n",
    "ax.plot(ks, test_errors, label=\"test errors\")\n",
    "ax.plot(ks, train_errors, \"r-+\",label=\"train errors\")\n",
    "\n",
    "ax.set(xlabel='number of K', ylabel='error',\n",
    "       title='Exercise 3')\n",
    "ax.legend()\n",
    "ax.grid()\n",
    "\n",
    "# fig.savefig(\"test.png\")\n",
    "plt.show()"
   ]
  },
  {
   "cell_type": "code",
   "execution_count": null,
   "metadata": {},
   "outputs": [],
   "source": []
  }
 ],
 "metadata": {
  "colab": {
   "name": "exercise_1.ipynb",
   "provenance": []
  },
  "kernel_info": {
   "name": "python3"
  },
  "kernelspec": {
   "display_name": "Python 3",
   "language": "python",
   "name": "python3"
  },
  "language_info": {
   "codemirror_mode": {
    "name": "ipython",
    "version": 3
   },
   "file_extension": ".py",
   "mimetype": "text/x-python",
   "name": "python",
   "nbconvert_exporter": "python",
   "pygments_lexer": "ipython3",
   "version": "3.7.3"
  },
  "nteract": {
   "version": "0.15.0"
  }
 },
 "nbformat": 4,
 "nbformat_minor": 1
}
